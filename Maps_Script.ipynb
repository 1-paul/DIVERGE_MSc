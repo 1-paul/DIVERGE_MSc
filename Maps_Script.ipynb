{
 "cells": [
  {
   "cell_type": "markdown",
   "id": "9e5f7100-99d4-460a-b9ba-6677db3a86c2",
   "metadata": {},
   "source": [
    "# Tutorial on `OpenStreetMap`\n",
    "Credits to Myriam Prasow-Émond, PhD candidate in Earth Science & Engineering, Imperial College London (m.prasow-emond22@imperial.ac.uk)"
   ]
  },
  {
   "cell_type": "code",
   "execution_count": 12,
   "id": "a37fed57-c85d-4638-8b02-46dc4e8b8e9d",
   "metadata": {
    "scrolled": true
   },
   "outputs": [
    {
     "name": "stdout",
     "output_type": "stream",
     "text": [
      "Collecting osmnx\n",
      "  Downloading osmnx-2.0.3-py3-none-any.whl.metadata (4.9 kB)\n",
      "Collecting geopandas>=1.0 (from osmnx)\n",
      "  Downloading geopandas-1.1.0-py3-none-any.whl.metadata (2.3 kB)\n",
      "Requirement already satisfied: networkx>=2.5 in /home/p/anaconda3/lib/python3.12/site-packages (from osmnx) (3.2.1)\n",
      "Requirement already satisfied: numpy>=1.22 in /home/p/anaconda3/lib/python3.12/site-packages (from osmnx) (1.26.4)\n",
      "Requirement already satisfied: pandas>=1.4 in /home/p/anaconda3/lib/python3.12/site-packages (from osmnx) (2.2.2)\n",
      "Requirement already satisfied: requests>=2.27 in /home/p/anaconda3/lib/python3.12/site-packages (from osmnx) (2.32.2)\n",
      "Collecting shapely>=2.0 (from osmnx)\n",
      "  Downloading shapely-2.1.1-cp312-cp312-manylinux_2_17_x86_64.manylinux2014_x86_64.whl.metadata (6.7 kB)\n",
      "Collecting pyogrio>=0.7.2 (from geopandas>=1.0->osmnx)\n",
      "  Downloading pyogrio-0.11.0-cp312-cp312-manylinux_2_28_x86_64.whl.metadata (5.3 kB)\n",
      "Requirement already satisfied: packaging in /home/p/anaconda3/lib/python3.12/site-packages (from geopandas>=1.0->osmnx) (23.2)\n",
      "Collecting pyproj>=3.5.0 (from geopandas>=1.0->osmnx)\n",
      "  Downloading pyproj-3.7.1-cp312-cp312-manylinux_2_17_x86_64.manylinux2014_x86_64.whl.metadata (31 kB)\n",
      "Requirement already satisfied: python-dateutil>=2.8.2 in /home/p/anaconda3/lib/python3.12/site-packages (from pandas>=1.4->osmnx) (2.9.0.post0)\n",
      "Requirement already satisfied: pytz>=2020.1 in /home/p/anaconda3/lib/python3.12/site-packages (from pandas>=1.4->osmnx) (2024.1)\n",
      "Requirement already satisfied: tzdata>=2022.7 in /home/p/anaconda3/lib/python3.12/site-packages (from pandas>=1.4->osmnx) (2023.3)\n",
      "Requirement already satisfied: charset-normalizer<4,>=2 in /home/p/anaconda3/lib/python3.12/site-packages (from requests>=2.27->osmnx) (2.0.4)\n",
      "Requirement already satisfied: idna<4,>=2.5 in /home/p/anaconda3/lib/python3.12/site-packages (from requests>=2.27->osmnx) (3.7)\n",
      "Requirement already satisfied: urllib3<3,>=1.21.1 in /home/p/anaconda3/lib/python3.12/site-packages (from requests>=2.27->osmnx) (2.2.2)\n",
      "Requirement already satisfied: certifi>=2017.4.17 in /home/p/anaconda3/lib/python3.12/site-packages (from requests>=2.27->osmnx) (2024.7.4)\n",
      "Requirement already satisfied: six>=1.5 in /home/p/anaconda3/lib/python3.12/site-packages (from python-dateutil>=2.8.2->pandas>=1.4->osmnx) (1.16.0)\n",
      "Downloading osmnx-2.0.3-py3-none-any.whl (100 kB)\n",
      "\u001b[2K   \u001b[38;2;114;156;31m━━━━━━━━━━━━━━━━━━━━━━━━━━━━━━━━━━━━━━━━\u001b[0m \u001b[32m100.2/100.2 kB\u001b[0m \u001b[31m3.2 MB/s\u001b[0m eta \u001b[36m0:00:00\u001b[0m\n",
      "\u001b[?25hDownloading geopandas-1.1.0-py3-none-any.whl (338 kB)\n",
      "\u001b[2K   \u001b[38;2;114;156;31m━━━━━━━━━━━━━━━━━━━━━━━━━━━━━━━━━━━━━━━━\u001b[0m \u001b[32m338.0/338.0 kB\u001b[0m \u001b[31m6.9 MB/s\u001b[0m eta \u001b[36m0:00:00\u001b[0m0m eta \u001b[36m0:00:01\u001b[0m\n",
      "\u001b[?25hDownloading shapely-2.1.1-cp312-cp312-manylinux_2_17_x86_64.manylinux2014_x86_64.whl (3.1 MB)\n",
      "\u001b[2K   \u001b[38;2;114;156;31m━━━━━━━━━━━━━━━━━━━━━━━━━━━━━━━━━━━━━━━━\u001b[0m \u001b[32m3.1/3.1 MB\u001b[0m \u001b[31m16.7 MB/s\u001b[0m eta \u001b[36m0:00:00\u001b[0mm eta \u001b[36m0:00:01\u001b[0m[36m0:00:01\u001b[0m\n",
      "\u001b[?25hDownloading pyogrio-0.11.0-cp312-cp312-manylinux_2_28_x86_64.whl (27.7 MB)\n",
      "\u001b[2K   \u001b[38;2;114;156;31m━━━━━━━━━━━━━━━━━━━━━━━━━━━━━━━━━━━━━━━━\u001b[0m \u001b[32m27.7/27.7 MB\u001b[0m \u001b[31m20.8 MB/s\u001b[0m eta \u001b[36m0:00:00\u001b[0mm eta \u001b[36m0:00:01\u001b[0m0:01\u001b[0m:01\u001b[0m\n",
      "\u001b[?25hDownloading pyproj-3.7.1-cp312-cp312-manylinux_2_17_x86_64.manylinux2014_x86_64.whl (9.6 MB)\n",
      "\u001b[2K   \u001b[38;2;114;156;31m━━━━━━━━━━━━━━━━━━━━━━━━━━━━━━━━━━━━━━━━\u001b[0m \u001b[32m9.6/9.6 MB\u001b[0m \u001b[31m21.7 MB/s\u001b[0m eta \u001b[36m0:00:00\u001b[0mm eta \u001b[36m0:00:01\u001b[0m[36m0:00:01\u001b[0m\n",
      "\u001b[?25hInstalling collected packages: shapely, pyproj, pyogrio, geopandas, osmnx\n",
      "Successfully installed geopandas-1.1.0 osmnx-2.0.3 pyogrio-0.11.0 pyproj-3.7.1 shapely-2.1.1\n",
      "Note: you may need to restart the kernel to use updated packages.\n"
     ]
    }
   ],
   "source": [
    "pip install --upgrade osmnx"
   ]
  },
  {
   "cell_type": "code",
   "execution_count": 10,
   "id": "03d646e7-380c-481f-b1cc-38b080858662",
   "metadata": {
    "collapsed": true,
    "jupyter": {
     "outputs_hidden": true
    },
    "scrolled": true
   },
   "outputs": [
    {
     "ename": "SyntaxError",
     "evalue": "invalid syntax (164658506.py, line 1)",
     "output_type": "error",
     "traceback": [
      "\u001b[0;36m  Cell \u001b[0;32mIn[10], line 1\u001b[0;36m\u001b[0m\n\u001b[0;31m    pip install --upgrade earthengine-api\u001b[0m\n\u001b[0m        ^\u001b[0m\n\u001b[0;31mSyntaxError\u001b[0m\u001b[0;31m:\u001b[0m invalid syntax\n"
     ]
    }
   ],
   "source": [
    "pip install --upgrade earthengine-api"
   ]
  },
  {
   "cell_type": "code",
   "execution_count": 16,
   "id": "d4a68981-bb2d-4e5a-b079-090fc106242b",
   "metadata": {},
   "outputs": [
    {
     "name": "stdout",
     "output_type": "stream",
     "text": [
      "Collecting geemap\n",
      "  Downloading geemap-0.35.3-py2.py3-none-any.whl.metadata (12 kB)\n",
      "Collecting bqplot (from geemap)\n",
      "  Downloading bqplot-0.12.45-py2.py3-none-any.whl.metadata (6.4 kB)\n",
      "Collecting colour (from geemap)\n",
      "  Using cached colour-0.1.5-py2.py3-none-any.whl.metadata (18 kB)\n",
      "Requirement already satisfied: earthengine-api>=1.0.0 in /home/p/anaconda3/lib/python3.12/site-packages (from geemap) (1.5.18)\n",
      "Collecting eerepr>=0.1.0 (from geemap)\n",
      "  Downloading eerepr-0.1.2-py3-none-any.whl.metadata (4.2 kB)\n",
      "Collecting folium>=0.17.0 (from geemap)\n",
      "  Downloading folium-0.19.7-py2.py3-none-any.whl.metadata (4.1 kB)\n",
      "Collecting geocoder (from geemap)\n",
      "  Using cached geocoder-1.38.1-py2.py3-none-any.whl.metadata (14 kB)\n",
      "Collecting ipyevents (from geemap)\n",
      "  Using cached ipyevents-2.0.2-py3-none-any.whl.metadata (2.9 kB)\n",
      "Collecting ipyfilechooser>=0.6.0 (from geemap)\n",
      "  Using cached ipyfilechooser-0.6.0-py3-none-any.whl.metadata (6.4 kB)\n",
      "Collecting ipyleaflet>=0.19.2 (from geemap)\n",
      "  Using cached ipyleaflet-0.19.2-py3-none-any.whl.metadata (5.3 kB)\n",
      "Collecting ipytree (from geemap)\n",
      "  Using cached ipytree-0.2.2-py2.py3-none-any.whl.metadata (849 bytes)\n",
      "Requirement already satisfied: matplotlib in /home/p/anaconda3/lib/python3.12/site-packages (from geemap) (3.8.4)\n",
      "Requirement already satisfied: numpy in /home/p/anaconda3/lib/python3.12/site-packages (from geemap) (1.26.4)\n",
      "Requirement already satisfied: pandas in /home/p/anaconda3/lib/python3.12/site-packages (from geemap) (2.2.2)\n",
      "Requirement already satisfied: plotly in /home/p/anaconda3/lib/python3.12/site-packages (from geemap) (5.22.0)\n",
      "Collecting pyperclip (from geemap)\n",
      "  Using cached pyperclip-1.9.0-py3-none-any.whl\n",
      "Collecting pyshp>=2.3.1 (from geemap)\n",
      "  Using cached pyshp-2.3.1-py2.py3-none-any.whl.metadata (55 kB)\n",
      "Collecting python-box (from geemap)\n",
      "  Using cached python_box-7.3.2-cp312-cp312-manylinux_2_17_x86_64.manylinux2014_x86_64.whl.metadata (8.0 kB)\n",
      "Collecting scooby (from geemap)\n",
      "  Downloading scooby-0.10.1-py3-none-any.whl.metadata (15 kB)\n",
      "Requirement already satisfied: google-cloud-storage in /home/p/anaconda3/lib/python3.12/site-packages (from earthengine-api>=1.0.0->geemap) (3.1.0)\n",
      "Requirement already satisfied: google-api-python-client>=1.12.1 in /home/p/anaconda3/lib/python3.12/site-packages (from earthengine-api>=1.0.0->geemap) (2.170.0)\n",
      "Requirement already satisfied: google-auth>=1.4.1 in /home/p/anaconda3/lib/python3.12/site-packages (from earthengine-api>=1.0.0->geemap) (2.40.2)\n",
      "Requirement already satisfied: google-auth-httplib2>=0.0.3 in /home/p/anaconda3/lib/python3.12/site-packages (from earthengine-api>=1.0.0->geemap) (0.2.0)\n",
      "Requirement already satisfied: httplib2<1dev,>=0.9.2 in /home/p/anaconda3/lib/python3.12/site-packages (from earthengine-api>=1.0.0->geemap) (0.22.0)\n",
      "Requirement already satisfied: requests in /home/p/anaconda3/lib/python3.12/site-packages (from earthengine-api>=1.0.0->geemap) (2.32.2)\n",
      "Collecting branca>=0.6.0 (from folium>=0.17.0->geemap)\n",
      "  Using cached branca-0.8.1-py3-none-any.whl.metadata (1.5 kB)\n",
      "Requirement already satisfied: jinja2>=2.9 in /home/p/anaconda3/lib/python3.12/site-packages (from folium>=0.17.0->geemap) (3.1.4)\n",
      "Requirement already satisfied: xyzservices in /home/p/anaconda3/lib/python3.12/site-packages (from folium>=0.17.0->geemap) (2022.9.0)\n",
      "Requirement already satisfied: ipywidgets in /home/p/anaconda3/lib/python3.12/site-packages (from ipyfilechooser>=0.6.0->geemap) (7.8.1)\n",
      "Collecting jupyter-leaflet<0.20,>=0.19 (from ipyleaflet>=0.19.2->geemap)\n",
      "  Using cached jupyter_leaflet-0.19.2-py3-none-any.whl.metadata (2.4 kB)\n",
      "Collecting traittypes<3,>=0.2.1 (from ipyleaflet>=0.19.2->geemap)\n",
      "  Using cached traittypes-0.2.1-py2.py3-none-any.whl.metadata (1.0 kB)\n",
      "Requirement already satisfied: traitlets>=4.3.0 in /home/p/anaconda3/lib/python3.12/site-packages (from bqplot->geemap) (5.14.3)\n",
      "Requirement already satisfied: python-dateutil>=2.8.2 in /home/p/anaconda3/lib/python3.12/site-packages (from pandas->geemap) (2.9.0.post0)\n",
      "Requirement already satisfied: pytz>=2020.1 in /home/p/anaconda3/lib/python3.12/site-packages (from pandas->geemap) (2024.1)\n",
      "Requirement already satisfied: tzdata>=2022.7 in /home/p/anaconda3/lib/python3.12/site-packages (from pandas->geemap) (2023.3)\n",
      "Requirement already satisfied: click in /home/p/anaconda3/lib/python3.12/site-packages (from geocoder->geemap) (8.1.7)\n",
      "Collecting future (from geocoder->geemap)\n",
      "  Using cached future-1.0.0-py3-none-any.whl.metadata (4.0 kB)\n",
      "Collecting ratelim (from geocoder->geemap)\n",
      "  Using cached ratelim-0.1.6-py2.py3-none-any.whl.metadata (1.4 kB)\n",
      "Requirement already satisfied: six in /home/p/anaconda3/lib/python3.12/site-packages (from geocoder->geemap) (1.16.0)\n",
      "Requirement already satisfied: contourpy>=1.0.1 in /home/p/anaconda3/lib/python3.12/site-packages (from matplotlib->geemap) (1.2.0)\n",
      "Requirement already satisfied: cycler>=0.10 in /home/p/anaconda3/lib/python3.12/site-packages (from matplotlib->geemap) (0.11.0)\n",
      "Requirement already satisfied: fonttools>=4.22.0 in /home/p/anaconda3/lib/python3.12/site-packages (from matplotlib->geemap) (4.51.0)\n",
      "Requirement already satisfied: kiwisolver>=1.3.1 in /home/p/anaconda3/lib/python3.12/site-packages (from matplotlib->geemap) (1.4.4)\n",
      "Requirement already satisfied: packaging>=20.0 in /home/p/anaconda3/lib/python3.12/site-packages (from matplotlib->geemap) (23.2)\n",
      "Requirement already satisfied: pillow>=8 in /home/p/anaconda3/lib/python3.12/site-packages (from matplotlib->geemap) (10.3.0)\n",
      "Requirement already satisfied: pyparsing>=2.3.1 in /home/p/anaconda3/lib/python3.12/site-packages (from matplotlib->geemap) (3.0.9)\n",
      "Requirement already satisfied: tenacity>=6.2.0 in /home/p/anaconda3/lib/python3.12/site-packages (from plotly->geemap) (8.2.2)\n",
      "Requirement already satisfied: google-api-core!=2.0.*,!=2.1.*,!=2.2.*,!=2.3.0,<3.0.0,>=1.31.5 in /home/p/anaconda3/lib/python3.12/site-packages (from google-api-python-client>=1.12.1->earthengine-api>=1.0.0->geemap) (2.25.0)\n",
      "Requirement already satisfied: uritemplate<5,>=3.0.1 in /home/p/anaconda3/lib/python3.12/site-packages (from google-api-python-client>=1.12.1->earthengine-api>=1.0.0->geemap) (4.2.0)\n",
      "Requirement already satisfied: cachetools<6.0,>=2.0.0 in /home/p/anaconda3/lib/python3.12/site-packages (from google-auth>=1.4.1->earthengine-api>=1.0.0->geemap) (5.3.3)\n",
      "Requirement already satisfied: pyasn1-modules>=0.2.1 in /home/p/anaconda3/lib/python3.12/site-packages (from google-auth>=1.4.1->earthengine-api>=1.0.0->geemap) (0.2.8)\n",
      "Requirement already satisfied: rsa<5,>=3.1.4 in /home/p/anaconda3/lib/python3.12/site-packages (from google-auth>=1.4.1->earthengine-api>=1.0.0->geemap) (4.9.1)\n",
      "Requirement already satisfied: comm>=0.1.3 in /home/p/anaconda3/lib/python3.12/site-packages (from ipywidgets->ipyfilechooser>=0.6.0->geemap) (0.2.1)\n",
      "Requirement already satisfied: ipython-genutils~=0.2.0 in /home/p/anaconda3/lib/python3.12/site-packages (from ipywidgets->ipyfilechooser>=0.6.0->geemap) (0.2.0)\n",
      "Requirement already satisfied: widgetsnbextension~=3.6.6 in /home/p/anaconda3/lib/python3.12/site-packages (from ipywidgets->ipyfilechooser>=0.6.0->geemap) (3.6.6)\n",
      "Requirement already satisfied: ipython>=4.0.0 in /home/p/anaconda3/lib/python3.12/site-packages (from ipywidgets->ipyfilechooser>=0.6.0->geemap) (8.25.0)\n",
      "Requirement already satisfied: jupyterlab-widgets<3,>=1.0.0 in /home/p/anaconda3/lib/python3.12/site-packages (from ipywidgets->ipyfilechooser>=0.6.0->geemap) (1.0.0)\n",
      "Requirement already satisfied: MarkupSafe>=2.0 in /home/p/anaconda3/lib/python3.12/site-packages (from jinja2>=2.9->folium>=0.17.0->geemap) (2.1.3)\n",
      "Requirement already satisfied: google-cloud-core<3.0dev,>=2.4.2 in /home/p/anaconda3/lib/python3.12/site-packages (from google-cloud-storage->earthengine-api>=1.0.0->geemap) (2.4.3)\n",
      "Requirement already satisfied: google-resumable-media>=2.7.2 in /home/p/anaconda3/lib/python3.12/site-packages (from google-cloud-storage->earthengine-api>=1.0.0->geemap) (2.7.2)\n",
      "Requirement already satisfied: google-crc32c<2.0dev,>=1.0 in /home/p/anaconda3/lib/python3.12/site-packages (from google-cloud-storage->earthengine-api>=1.0.0->geemap) (1.7.1)\n",
      "Requirement already satisfied: charset-normalizer<4,>=2 in /home/p/anaconda3/lib/python3.12/site-packages (from requests->earthengine-api>=1.0.0->geemap) (2.0.4)\n",
      "Requirement already satisfied: idna<4,>=2.5 in /home/p/anaconda3/lib/python3.12/site-packages (from requests->earthengine-api>=1.0.0->geemap) (3.7)\n",
      "Requirement already satisfied: urllib3<3,>=1.21.1 in /home/p/anaconda3/lib/python3.12/site-packages (from requests->earthengine-api>=1.0.0->geemap) (2.2.2)\n",
      "Requirement already satisfied: certifi>=2017.4.17 in /home/p/anaconda3/lib/python3.12/site-packages (from requests->earthengine-api>=1.0.0->geemap) (2024.7.4)\n",
      "Requirement already satisfied: decorator in /home/p/anaconda3/lib/python3.12/site-packages (from ratelim->geocoder->geemap) (5.1.1)\n",
      "Requirement already satisfied: googleapis-common-protos<2.0.0,>=1.56.2 in /home/p/anaconda3/lib/python3.12/site-packages (from google-api-core!=2.0.*,!=2.1.*,!=2.2.*,!=2.3.0,<3.0.0,>=1.31.5->google-api-python-client>=1.12.1->earthengine-api>=1.0.0->geemap) (1.70.0)\n",
      "Requirement already satisfied: protobuf!=3.20.0,!=3.20.1,!=4.21.0,!=4.21.1,!=4.21.2,!=4.21.3,!=4.21.4,!=4.21.5,<7.0.0,>=3.19.5 in /home/p/anaconda3/lib/python3.12/site-packages (from google-api-core!=2.0.*,!=2.1.*,!=2.2.*,!=2.3.0,<3.0.0,>=1.31.5->google-api-python-client>=1.12.1->earthengine-api>=1.0.0->geemap) (3.20.3)\n",
      "Requirement already satisfied: proto-plus<2.0.0,>=1.22.3 in /home/p/anaconda3/lib/python3.12/site-packages (from google-api-core!=2.0.*,!=2.1.*,!=2.2.*,!=2.3.0,<3.0.0,>=1.31.5->google-api-python-client>=1.12.1->earthengine-api>=1.0.0->geemap) (1.26.1)\n",
      "Requirement already satisfied: jedi>=0.16 in /home/p/anaconda3/lib/python3.12/site-packages (from ipython>=4.0.0->ipywidgets->ipyfilechooser>=0.6.0->geemap) (0.18.1)\n",
      "Requirement already satisfied: matplotlib-inline in /home/p/anaconda3/lib/python3.12/site-packages (from ipython>=4.0.0->ipywidgets->ipyfilechooser>=0.6.0->geemap) (0.1.6)\n",
      "Requirement already satisfied: prompt-toolkit<3.1.0,>=3.0.41 in /home/p/anaconda3/lib/python3.12/site-packages (from ipython>=4.0.0->ipywidgets->ipyfilechooser>=0.6.0->geemap) (3.0.43)\n",
      "Requirement already satisfied: pygments>=2.4.0 in /home/p/anaconda3/lib/python3.12/site-packages (from ipython>=4.0.0->ipywidgets->ipyfilechooser>=0.6.0->geemap) (2.15.1)\n",
      "Requirement already satisfied: stack-data in /home/p/anaconda3/lib/python3.12/site-packages (from ipython>=4.0.0->ipywidgets->ipyfilechooser>=0.6.0->geemap) (0.2.0)\n",
      "Requirement already satisfied: pexpect>4.3 in /home/p/anaconda3/lib/python3.12/site-packages (from ipython>=4.0.0->ipywidgets->ipyfilechooser>=0.6.0->geemap) (4.8.0)\n",
      "Requirement already satisfied: pyasn1<0.5.0,>=0.4.6 in /home/p/anaconda3/lib/python3.12/site-packages (from pyasn1-modules>=0.2.1->google-auth>=1.4.1->earthengine-api>=1.0.0->geemap) (0.4.8)\n",
      "Requirement already satisfied: notebook>=4.4.1 in /home/p/anaconda3/lib/python3.12/site-packages (from widgetsnbextension~=3.6.6->ipywidgets->ipyfilechooser>=0.6.0->geemap) (7.0.8)\n",
      "Requirement already satisfied: parso<0.9.0,>=0.8.0 in /home/p/anaconda3/lib/python3.12/site-packages (from jedi>=0.16->ipython>=4.0.0->ipywidgets->ipyfilechooser>=0.6.0->geemap) (0.8.3)\n",
      "Requirement already satisfied: jupyter-server<3,>=2.4.0 in /home/p/anaconda3/lib/python3.12/site-packages (from notebook>=4.4.1->widgetsnbextension~=3.6.6->ipywidgets->ipyfilechooser>=0.6.0->geemap) (2.14.1)\n",
      "Requirement already satisfied: jupyterlab-server<3,>=2.22.1 in /home/p/anaconda3/lib/python3.12/site-packages (from notebook>=4.4.1->widgetsnbextension~=3.6.6->ipywidgets->ipyfilechooser>=0.6.0->geemap) (2.25.1)\n",
      "Requirement already satisfied: jupyterlab<4.1,>=4.0.2 in /home/p/anaconda3/lib/python3.12/site-packages (from notebook>=4.4.1->widgetsnbextension~=3.6.6->ipywidgets->ipyfilechooser>=0.6.0->geemap) (4.0.11)\n",
      "Requirement already satisfied: notebook-shim<0.3,>=0.2 in /home/p/anaconda3/lib/python3.12/site-packages (from notebook>=4.4.1->widgetsnbextension~=3.6.6->ipywidgets->ipyfilechooser>=0.6.0->geemap) (0.2.3)\n",
      "Requirement already satisfied: tornado>=6.2.0 in /home/p/anaconda3/lib/python3.12/site-packages (from notebook>=4.4.1->widgetsnbextension~=3.6.6->ipywidgets->ipyfilechooser>=0.6.0->geemap) (6.4.1)\n",
      "Requirement already satisfied: ptyprocess>=0.5 in /home/p/anaconda3/lib/python3.12/site-packages (from pexpect>4.3->ipython>=4.0.0->ipywidgets->ipyfilechooser>=0.6.0->geemap) (0.7.0)\n",
      "Requirement already satisfied: wcwidth in /home/p/anaconda3/lib/python3.12/site-packages (from prompt-toolkit<3.1.0,>=3.0.41->ipython>=4.0.0->ipywidgets->ipyfilechooser>=0.6.0->geemap) (0.2.5)\n",
      "Requirement already satisfied: executing in /home/p/anaconda3/lib/python3.12/site-packages (from stack-data->ipython>=4.0.0->ipywidgets->ipyfilechooser>=0.6.0->geemap) (0.8.3)\n",
      "Requirement already satisfied: asttokens in /home/p/anaconda3/lib/python3.12/site-packages (from stack-data->ipython>=4.0.0->ipywidgets->ipyfilechooser>=0.6.0->geemap) (2.0.5)\n",
      "Requirement already satisfied: pure-eval in /home/p/anaconda3/lib/python3.12/site-packages (from stack-data->ipython>=4.0.0->ipywidgets->ipyfilechooser>=0.6.0->geemap) (0.2.2)\n",
      "Requirement already satisfied: anyio>=3.1.0 in /home/p/anaconda3/lib/python3.12/site-packages (from jupyter-server<3,>=2.4.0->notebook>=4.4.1->widgetsnbextension~=3.6.6->ipywidgets->ipyfilechooser>=0.6.0->geemap) (4.2.0)\n",
      "Requirement already satisfied: argon2-cffi>=21.1 in /home/p/anaconda3/lib/python3.12/site-packages (from jupyter-server<3,>=2.4.0->notebook>=4.4.1->widgetsnbextension~=3.6.6->ipywidgets->ipyfilechooser>=0.6.0->geemap) (21.3.0)\n",
      "Requirement already satisfied: jupyter-client>=7.4.4 in /home/p/anaconda3/lib/python3.12/site-packages (from jupyter-server<3,>=2.4.0->notebook>=4.4.1->widgetsnbextension~=3.6.6->ipywidgets->ipyfilechooser>=0.6.0->geemap) (8.6.0)\n",
      "Requirement already satisfied: jupyter-core!=5.0.*,>=4.12 in /home/p/anaconda3/lib/python3.12/site-packages (from jupyter-server<3,>=2.4.0->notebook>=4.4.1->widgetsnbextension~=3.6.6->ipywidgets->ipyfilechooser>=0.6.0->geemap) (5.7.2)\n",
      "Requirement already satisfied: jupyter-events>=0.9.0 in /home/p/anaconda3/lib/python3.12/site-packages (from jupyter-server<3,>=2.4.0->notebook>=4.4.1->widgetsnbextension~=3.6.6->ipywidgets->ipyfilechooser>=0.6.0->geemap) (0.10.0)\n",
      "Requirement already satisfied: jupyter-server-terminals>=0.4.4 in /home/p/anaconda3/lib/python3.12/site-packages (from jupyter-server<3,>=2.4.0->notebook>=4.4.1->widgetsnbextension~=3.6.6->ipywidgets->ipyfilechooser>=0.6.0->geemap) (0.4.4)\n",
      "Requirement already satisfied: nbconvert>=6.4.4 in /home/p/anaconda3/lib/python3.12/site-packages (from jupyter-server<3,>=2.4.0->notebook>=4.4.1->widgetsnbextension~=3.6.6->ipywidgets->ipyfilechooser>=0.6.0->geemap) (7.10.0)\n",
      "Requirement already satisfied: nbformat>=5.3.0 in /home/p/anaconda3/lib/python3.12/site-packages (from jupyter-server<3,>=2.4.0->notebook>=4.4.1->widgetsnbextension~=3.6.6->ipywidgets->ipyfilechooser>=0.6.0->geemap) (5.9.2)\n",
      "Requirement already satisfied: overrides>=5.0 in /home/p/anaconda3/lib/python3.12/site-packages (from jupyter-server<3,>=2.4.0->notebook>=4.4.1->widgetsnbextension~=3.6.6->ipywidgets->ipyfilechooser>=0.6.0->geemap) (7.4.0)\n",
      "Requirement already satisfied: prometheus-client>=0.9 in /home/p/anaconda3/lib/python3.12/site-packages (from jupyter-server<3,>=2.4.0->notebook>=4.4.1->widgetsnbextension~=3.6.6->ipywidgets->ipyfilechooser>=0.6.0->geemap) (0.14.1)\n",
      "Requirement already satisfied: pyzmq>=24 in /home/p/anaconda3/lib/python3.12/site-packages (from jupyter-server<3,>=2.4.0->notebook>=4.4.1->widgetsnbextension~=3.6.6->ipywidgets->ipyfilechooser>=0.6.0->geemap) (25.1.2)\n",
      "Requirement already satisfied: send2trash>=1.8.2 in /home/p/anaconda3/lib/python3.12/site-packages (from jupyter-server<3,>=2.4.0->notebook>=4.4.1->widgetsnbextension~=3.6.6->ipywidgets->ipyfilechooser>=0.6.0->geemap) (1.8.2)\n",
      "Requirement already satisfied: terminado>=0.8.3 in /home/p/anaconda3/lib/python3.12/site-packages (from jupyter-server<3,>=2.4.0->notebook>=4.4.1->widgetsnbextension~=3.6.6->ipywidgets->ipyfilechooser>=0.6.0->geemap) (0.17.1)\n",
      "Requirement already satisfied: websocket-client>=1.7 in /home/p/anaconda3/lib/python3.12/site-packages (from jupyter-server<3,>=2.4.0->notebook>=4.4.1->widgetsnbextension~=3.6.6->ipywidgets->ipyfilechooser>=0.6.0->geemap) (1.8.0)\n",
      "Requirement already satisfied: async-lru>=1.0.0 in /home/p/anaconda3/lib/python3.12/site-packages (from jupyterlab<4.1,>=4.0.2->notebook>=4.4.1->widgetsnbextension~=3.6.6->ipywidgets->ipyfilechooser>=0.6.0->geemap) (2.0.4)\n",
      "Requirement already satisfied: ipykernel in /home/p/anaconda3/lib/python3.12/site-packages (from jupyterlab<4.1,>=4.0.2->notebook>=4.4.1->widgetsnbextension~=3.6.6->ipywidgets->ipyfilechooser>=0.6.0->geemap) (6.28.0)\n",
      "Requirement already satisfied: jupyter-lsp>=2.0.0 in /home/p/anaconda3/lib/python3.12/site-packages (from jupyterlab<4.1,>=4.0.2->notebook>=4.4.1->widgetsnbextension~=3.6.6->ipywidgets->ipyfilechooser>=0.6.0->geemap) (2.2.0)\n",
      "Requirement already satisfied: babel>=2.10 in /home/p/anaconda3/lib/python3.12/site-packages (from jupyterlab-server<3,>=2.22.1->notebook>=4.4.1->widgetsnbextension~=3.6.6->ipywidgets->ipyfilechooser>=0.6.0->geemap) (2.11.0)\n",
      "Requirement already satisfied: json5>=0.9.0 in /home/p/anaconda3/lib/python3.12/site-packages (from jupyterlab-server<3,>=2.22.1->notebook>=4.4.1->widgetsnbextension~=3.6.6->ipywidgets->ipyfilechooser>=0.6.0->geemap) (0.9.6)\n",
      "Requirement already satisfied: jsonschema>=4.18.0 in /home/p/anaconda3/lib/python3.12/site-packages (from jupyterlab-server<3,>=2.22.1->notebook>=4.4.1->widgetsnbextension~=3.6.6->ipywidgets->ipyfilechooser>=0.6.0->geemap) (4.19.2)\n",
      "Requirement already satisfied: sniffio>=1.1 in /home/p/anaconda3/lib/python3.12/site-packages (from anyio>=3.1.0->jupyter-server<3,>=2.4.0->notebook>=4.4.1->widgetsnbextension~=3.6.6->ipywidgets->ipyfilechooser>=0.6.0->geemap) (1.3.0)\n",
      "Requirement already satisfied: argon2-cffi-bindings in /home/p/anaconda3/lib/python3.12/site-packages (from argon2-cffi>=21.1->jupyter-server<3,>=2.4.0->notebook>=4.4.1->widgetsnbextension~=3.6.6->ipywidgets->ipyfilechooser>=0.6.0->geemap) (21.2.0)\n",
      "Requirement already satisfied: attrs>=22.2.0 in /home/p/anaconda3/lib/python3.12/site-packages (from jsonschema>=4.18.0->jupyterlab-server<3,>=2.22.1->notebook>=4.4.1->widgetsnbextension~=3.6.6->ipywidgets->ipyfilechooser>=0.6.0->geemap) (23.1.0)\n",
      "Requirement already satisfied: jsonschema-specifications>=2023.03.6 in /home/p/anaconda3/lib/python3.12/site-packages (from jsonschema>=4.18.0->jupyterlab-server<3,>=2.22.1->notebook>=4.4.1->widgetsnbextension~=3.6.6->ipywidgets->ipyfilechooser>=0.6.0->geemap) (2023.7.1)\n",
      "Requirement already satisfied: referencing>=0.28.4 in /home/p/anaconda3/lib/python3.12/site-packages (from jsonschema>=4.18.0->jupyterlab-server<3,>=2.22.1->notebook>=4.4.1->widgetsnbextension~=3.6.6->ipywidgets->ipyfilechooser>=0.6.0->geemap) (0.30.2)\n",
      "Requirement already satisfied: rpds-py>=0.7.1 in /home/p/anaconda3/lib/python3.12/site-packages (from jsonschema>=4.18.0->jupyterlab-server<3,>=2.22.1->notebook>=4.4.1->widgetsnbextension~=3.6.6->ipywidgets->ipyfilechooser>=0.6.0->geemap) (0.10.6)\n",
      "Requirement already satisfied: platformdirs>=2.5 in /home/p/anaconda3/lib/python3.12/site-packages (from jupyter-core!=5.0.*,>=4.12->jupyter-server<3,>=2.4.0->notebook>=4.4.1->widgetsnbextension~=3.6.6->ipywidgets->ipyfilechooser>=0.6.0->geemap) (3.10.0)\n",
      "Requirement already satisfied: python-json-logger>=2.0.4 in /home/p/anaconda3/lib/python3.12/site-packages (from jupyter-events>=0.9.0->jupyter-server<3,>=2.4.0->notebook>=4.4.1->widgetsnbextension~=3.6.6->ipywidgets->ipyfilechooser>=0.6.0->geemap) (2.0.7)\n",
      "Requirement already satisfied: pyyaml>=5.3 in /home/p/anaconda3/lib/python3.12/site-packages (from jupyter-events>=0.9.0->jupyter-server<3,>=2.4.0->notebook>=4.4.1->widgetsnbextension~=3.6.6->ipywidgets->ipyfilechooser>=0.6.0->geemap) (6.0.1)\n",
      "Requirement already satisfied: rfc3339-validator in /home/p/anaconda3/lib/python3.12/site-packages (from jupyter-events>=0.9.0->jupyter-server<3,>=2.4.0->notebook>=4.4.1->widgetsnbextension~=3.6.6->ipywidgets->ipyfilechooser>=0.6.0->geemap) (0.1.4)\n",
      "Requirement already satisfied: rfc3986-validator>=0.1.1 in /home/p/anaconda3/lib/python3.12/site-packages (from jupyter-events>=0.9.0->jupyter-server<3,>=2.4.0->notebook>=4.4.1->widgetsnbextension~=3.6.6->ipywidgets->ipyfilechooser>=0.6.0->geemap) (0.1.1)\n",
      "Requirement already satisfied: beautifulsoup4 in /home/p/anaconda3/lib/python3.12/site-packages (from nbconvert>=6.4.4->jupyter-server<3,>=2.4.0->notebook>=4.4.1->widgetsnbextension~=3.6.6->ipywidgets->ipyfilechooser>=0.6.0->geemap) (4.12.3)\n",
      "Requirement already satisfied: bleach!=5.0.0 in /home/p/anaconda3/lib/python3.12/site-packages (from nbconvert>=6.4.4->jupyter-server<3,>=2.4.0->notebook>=4.4.1->widgetsnbextension~=3.6.6->ipywidgets->ipyfilechooser>=0.6.0->geemap) (4.1.0)\n",
      "Requirement already satisfied: defusedxml in /home/p/anaconda3/lib/python3.12/site-packages (from nbconvert>=6.4.4->jupyter-server<3,>=2.4.0->notebook>=4.4.1->widgetsnbextension~=3.6.6->ipywidgets->ipyfilechooser>=0.6.0->geemap) (0.7.1)\n",
      "Requirement already satisfied: jupyterlab-pygments in /home/p/anaconda3/lib/python3.12/site-packages (from nbconvert>=6.4.4->jupyter-server<3,>=2.4.0->notebook>=4.4.1->widgetsnbextension~=3.6.6->ipywidgets->ipyfilechooser>=0.6.0->geemap) (0.1.2)\n",
      "Requirement already satisfied: mistune<4,>=2.0.3 in /home/p/anaconda3/lib/python3.12/site-packages (from nbconvert>=6.4.4->jupyter-server<3,>=2.4.0->notebook>=4.4.1->widgetsnbextension~=3.6.6->ipywidgets->ipyfilechooser>=0.6.0->geemap) (2.0.4)\n",
      "Requirement already satisfied: nbclient>=0.5.0 in /home/p/anaconda3/lib/python3.12/site-packages (from nbconvert>=6.4.4->jupyter-server<3,>=2.4.0->notebook>=4.4.1->widgetsnbextension~=3.6.6->ipywidgets->ipyfilechooser>=0.6.0->geemap) (0.8.0)\n",
      "Requirement already satisfied: pandocfilters>=1.4.1 in /home/p/anaconda3/lib/python3.12/site-packages (from nbconvert>=6.4.4->jupyter-server<3,>=2.4.0->notebook>=4.4.1->widgetsnbextension~=3.6.6->ipywidgets->ipyfilechooser>=0.6.0->geemap) (1.5.0)\n",
      "Requirement already satisfied: tinycss2 in /home/p/anaconda3/lib/python3.12/site-packages (from nbconvert>=6.4.4->jupyter-server<3,>=2.4.0->notebook>=4.4.1->widgetsnbextension~=3.6.6->ipywidgets->ipyfilechooser>=0.6.0->geemap) (1.2.1)\n",
      "Requirement already satisfied: fastjsonschema in /home/p/anaconda3/lib/python3.12/site-packages (from nbformat>=5.3.0->jupyter-server<3,>=2.4.0->notebook>=4.4.1->widgetsnbextension~=3.6.6->ipywidgets->ipyfilechooser>=0.6.0->geemap) (2.16.2)\n",
      "Requirement already satisfied: debugpy>=1.6.5 in /home/p/anaconda3/lib/python3.12/site-packages (from ipykernel->jupyterlab<4.1,>=4.0.2->notebook>=4.4.1->widgetsnbextension~=3.6.6->ipywidgets->ipyfilechooser>=0.6.0->geemap) (1.6.7)\n",
      "Requirement already satisfied: nest-asyncio in /home/p/anaconda3/lib/python3.12/site-packages (from ipykernel->jupyterlab<4.1,>=4.0.2->notebook>=4.4.1->widgetsnbextension~=3.6.6->ipywidgets->ipyfilechooser>=0.6.0->geemap) (1.6.0)\n",
      "Requirement already satisfied: psutil in /home/p/anaconda3/lib/python3.12/site-packages (from ipykernel->jupyterlab<4.1,>=4.0.2->notebook>=4.4.1->widgetsnbextension~=3.6.6->ipywidgets->ipyfilechooser>=0.6.0->geemap) (5.9.0)\n",
      "Requirement already satisfied: webencodings in /home/p/anaconda3/lib/python3.12/site-packages (from bleach!=5.0.0->nbconvert>=6.4.4->jupyter-server<3,>=2.4.0->notebook>=4.4.1->widgetsnbextension~=3.6.6->ipywidgets->ipyfilechooser>=0.6.0->geemap) (0.5.1)\n",
      "Collecting fqdn (from jsonschema[format-nongpl]>=4.18.0->jupyter-events>=0.9.0->jupyter-server<3,>=2.4.0->notebook>=4.4.1->widgetsnbextension~=3.6.6->ipywidgets->ipyfilechooser>=0.6.0->geemap)\n",
      "  Downloading fqdn-1.5.1-py3-none-any.whl.metadata (1.4 kB)\n",
      "Collecting isoduration (from jsonschema[format-nongpl]>=4.18.0->jupyter-events>=0.9.0->jupyter-server<3,>=2.4.0->notebook>=4.4.1->widgetsnbextension~=3.6.6->ipywidgets->ipyfilechooser>=0.6.0->geemap)\n",
      "  Downloading isoduration-20.11.0-py3-none-any.whl.metadata (5.7 kB)\n",
      "Requirement already satisfied: jsonpointer>1.13 in /home/p/anaconda3/lib/python3.12/site-packages (from jsonschema[format-nongpl]>=4.18.0->jupyter-events>=0.9.0->jupyter-server<3,>=2.4.0->notebook>=4.4.1->widgetsnbextension~=3.6.6->ipywidgets->ipyfilechooser>=0.6.0->geemap) (2.1)\n",
      "Collecting uri-template (from jsonschema[format-nongpl]>=4.18.0->jupyter-events>=0.9.0->jupyter-server<3,>=2.4.0->notebook>=4.4.1->widgetsnbextension~=3.6.6->ipywidgets->ipyfilechooser>=0.6.0->geemap)\n",
      "  Downloading uri_template-1.3.0-py3-none-any.whl.metadata (8.8 kB)\n",
      "Collecting webcolors>=1.11 (from jsonschema[format-nongpl]>=4.18.0->jupyter-events>=0.9.0->jupyter-server<3,>=2.4.0->notebook>=4.4.1->widgetsnbextension~=3.6.6->ipywidgets->ipyfilechooser>=0.6.0->geemap)\n",
      "  Downloading webcolors-24.11.1-py3-none-any.whl.metadata (2.2 kB)\n",
      "Requirement already satisfied: cffi>=1.0.1 in /home/p/anaconda3/lib/python3.12/site-packages (from argon2-cffi-bindings->argon2-cffi>=21.1->jupyter-server<3,>=2.4.0->notebook>=4.4.1->widgetsnbextension~=3.6.6->ipywidgets->ipyfilechooser>=0.6.0->geemap) (1.16.0)\n",
      "Requirement already satisfied: soupsieve>1.2 in /home/p/anaconda3/lib/python3.12/site-packages (from beautifulsoup4->nbconvert>=6.4.4->jupyter-server<3,>=2.4.0->notebook>=4.4.1->widgetsnbextension~=3.6.6->ipywidgets->ipyfilechooser>=0.6.0->geemap) (2.5)\n",
      "Requirement already satisfied: pycparser in /home/p/anaconda3/lib/python3.12/site-packages (from cffi>=1.0.1->argon2-cffi-bindings->argon2-cffi>=21.1->jupyter-server<3,>=2.4.0->notebook>=4.4.1->widgetsnbextension~=3.6.6->ipywidgets->ipyfilechooser>=0.6.0->geemap) (2.21)\n",
      "Requirement already satisfied: arrow>=0.15.0 in /home/p/anaconda3/lib/python3.12/site-packages (from isoduration->jsonschema[format-nongpl]>=4.18.0->jupyter-events>=0.9.0->jupyter-server<3,>=2.4.0->notebook>=4.4.1->widgetsnbextension~=3.6.6->ipywidgets->ipyfilechooser>=0.6.0->geemap) (1.2.3)\n",
      "Downloading geemap-0.35.3-py2.py3-none-any.whl (2.3 MB)\n",
      "\u001b[2K   \u001b[38;2;114;156;31m━━━━━━━━━━━━━━━━━━━━━━━━━━━━━━━━━━━━━━━━\u001b[0m \u001b[32m2.3/2.3 MB\u001b[0m \u001b[31m11.8 MB/s\u001b[0m eta \u001b[36m0:00:00\u001b[0mm eta \u001b[36m0:00:01\u001b[0m[36m0:00:01\u001b[0m\n",
      "\u001b[?25hDownloading eerepr-0.1.2-py3-none-any.whl (9.5 kB)\n",
      "Downloading folium-0.19.7-py2.py3-none-any.whl (112 kB)\n",
      "\u001b[2K   \u001b[38;2;114;156;31m━━━━━━━━━━━━━━━━━━━━━━━━━━━━━━━━━━━━━━━━\u001b[0m \u001b[32m112.5/112.5 kB\u001b[0m \u001b[31m6.3 MB/s\u001b[0m eta \u001b[36m0:00:00\u001b[0m\n",
      "\u001b[?25hUsing cached ipyfilechooser-0.6.0-py3-none-any.whl (11 kB)\n",
      "Using cached ipyleaflet-0.19.2-py3-none-any.whl (31 kB)\n",
      "Using cached pyshp-2.3.1-py2.py3-none-any.whl (46 kB)\n",
      "Downloading bqplot-0.12.45-py2.py3-none-any.whl (1.2 MB)\n",
      "\u001b[2K   \u001b[38;2;114;156;31m━━━━━━━━━━━━━━━━━━━━━━━━━━━━━━━━━━━━━━━━\u001b[0m \u001b[32m1.2/1.2 MB\u001b[0m \u001b[31m20.9 MB/s\u001b[0m eta \u001b[36m0:00:00\u001b[0m31m33.1 MB/s\u001b[0m eta \u001b[36m0:00:01\u001b[0m\n",
      "\u001b[?25hUsing cached colour-0.1.5-py2.py3-none-any.whl (23 kB)\n",
      "Using cached geocoder-1.38.1-py2.py3-none-any.whl (98 kB)\n",
      "Using cached ipyevents-2.0.2-py3-none-any.whl (101 kB)\n",
      "Using cached ipytree-0.2.2-py2.py3-none-any.whl (1.3 MB)\n",
      "Using cached python_box-7.3.2-cp312-cp312-manylinux_2_17_x86_64.manylinux2014_x86_64.whl (4.3 MB)\n",
      "Downloading scooby-0.10.1-py3-none-any.whl (18 kB)\n",
      "Using cached branca-0.8.1-py3-none-any.whl (26 kB)\n",
      "Using cached jupyter_leaflet-0.19.2-py3-none-any.whl (1.1 MB)\n",
      "Using cached traittypes-0.2.1-py2.py3-none-any.whl (8.6 kB)\n",
      "Using cached future-1.0.0-py3-none-any.whl (491 kB)\n",
      "Using cached ratelim-0.1.6-py2.py3-none-any.whl (4.0 kB)\n",
      "Downloading webcolors-24.11.1-py3-none-any.whl (14 kB)\n",
      "Downloading fqdn-1.5.1-py3-none-any.whl (9.1 kB)\n",
      "Downloading isoduration-20.11.0-py3-none-any.whl (11 kB)\n",
      "Downloading uri_template-1.3.0-py3-none-any.whl (11 kB)\n",
      "Installing collected packages: pyperclip, colour, webcolors, uri-template, traittypes, scooby, ratelim, python-box, pyshp, jupyter-leaflet, future, fqdn, geocoder, branca, isoduration, folium, eerepr, ipytree, ipyleaflet, ipyfilechooser, ipyevents, bqplot, geemap\n",
      "Successfully installed bqplot-0.12.45 branca-0.8.1 colour-0.1.5 eerepr-0.1.2 folium-0.19.7 fqdn-1.5.1 future-1.0.0 geemap-0.35.3 geocoder-1.38.1 ipyevents-2.0.2 ipyfilechooser-0.6.0 ipyleaflet-0.19.2 ipytree-0.2.2 isoduration-20.11.0 jupyter-leaflet-0.19.2 pyperclip-1.9.0 pyshp-2.3.1 python-box-7.3.2 ratelim-0.1.6 scooby-0.10.1 traittypes-0.2.1 uri-template-1.3.0 webcolors-24.11.1\n",
      "Note: you may need to restart the kernel to use updated packages.\n"
     ]
    }
   ],
   "source": [
    "pip install --upgrade geemap"
   ]
  },
  {
   "cell_type": "code",
   "execution_count": 20,
   "id": "96ec7eda-bc15-4661-b255-6e23716b9986",
   "metadata": {
    "scrolled": true
   },
   "outputs": [
    {
     "data": {
      "text/html": [
       "\n",
       "            <style>\n",
       "                .geemap-dark {\n",
       "                    --jp-widgets-color: white;\n",
       "                    --jp-widgets-label-color: white;\n",
       "                    --jp-ui-font-color1: white;\n",
       "                    --jp-layout-color2: #454545;\n",
       "                    background-color: #383838;\n",
       "                }\n",
       "\n",
       "                .geemap-dark .jupyter-button {\n",
       "                    --jp-layout-color3: #383838;\n",
       "                }\n",
       "\n",
       "                .geemap-colab {\n",
       "                    background-color: var(--colab-primary-surface-color, white);\n",
       "                }\n",
       "\n",
       "                .geemap-colab .jupyter-button {\n",
       "                    --jp-layout-color3: var(--colab-primary-surface-color, white);\n",
       "                }\n",
       "            </style>\n",
       "            "
      ],
      "text/plain": [
       "<IPython.core.display.HTML object>"
      ]
     },
     "metadata": {},
     "output_type": "display_data"
    },
    {
     "name": "stdout",
     "output_type": "stream",
     "text": [
      "Collecting rasterio\n",
      "  Using cached rasterio-1.4.3-cp312-cp312-manylinux_2_17_x86_64.manylinux2014_x86_64.whl.metadata (9.1 kB)\n",
      "Collecting affine (from rasterio)\n",
      "  Using cached affine-2.4.0-py3-none-any.whl.metadata (4.0 kB)\n",
      "Requirement already satisfied: attrs in /home/p/anaconda3/lib/python3.12/site-packages (from rasterio) (23.1.0)\n",
      "Requirement already satisfied: certifi in /home/p/anaconda3/lib/python3.12/site-packages (from rasterio) (2024.7.4)\n",
      "Requirement already satisfied: click>=4.0 in /home/p/anaconda3/lib/python3.12/site-packages (from rasterio) (8.1.7)\n",
      "Collecting cligj>=0.5 (from rasterio)\n",
      "  Using cached cligj-0.7.2-py3-none-any.whl.metadata (5.0 kB)\n",
      "Requirement already satisfied: numpy>=1.24 in /home/p/anaconda3/lib/python3.12/site-packages (from rasterio) (1.26.4)\n",
      "Collecting click-plugins (from rasterio)\n",
      "  Using cached click_plugins-1.1.1-py2.py3-none-any.whl.metadata (6.4 kB)\n",
      "Requirement already satisfied: pyparsing in /home/p/anaconda3/lib/python3.12/site-packages (from rasterio) (3.0.9)\n",
      "Using cached rasterio-1.4.3-cp312-cp312-manylinux_2_17_x86_64.manylinux2014_x86_64.whl (22.3 MB)\n",
      "Using cached cligj-0.7.2-py3-none-any.whl (7.1 kB)\n",
      "Using cached affine-2.4.0-py3-none-any.whl (15 kB)\n",
      "Using cached click_plugins-1.1.1-py2.py3-none-any.whl (7.5 kB)\n",
      "Installing collected packages: cligj, click-plugins, affine, rasterio\n",
      "Successfully installed affine-2.4.0 click-plugins-1.1.1 cligj-0.7.2 rasterio-1.4.3\n",
      "Note: you may need to restart the kernel to use updated packages.\n"
     ]
    }
   ],
   "source": [
    "pip install --upgrade rasterio"
   ]
  },
  {
   "cell_type": "markdown",
   "id": "5662d2e2-eea7-4947-97e0-225df37bb015",
   "metadata": {},
   "source": [
    "## Import modules"
   ]
  },
  {
   "cell_type": "code",
   "execution_count": 22,
   "id": "638e1e38-bc74-48db-8ef9-a51e3be216eb",
   "metadata": {},
   "outputs": [
    {
     "data": {
      "text/html": [
       "\n",
       "            <style>\n",
       "                .geemap-dark {\n",
       "                    --jp-widgets-color: white;\n",
       "                    --jp-widgets-label-color: white;\n",
       "                    --jp-ui-font-color1: white;\n",
       "                    --jp-layout-color2: #454545;\n",
       "                    background-color: #383838;\n",
       "                }\n",
       "\n",
       "                .geemap-dark .jupyter-button {\n",
       "                    --jp-layout-color3: #383838;\n",
       "                }\n",
       "\n",
       "                .geemap-colab {\n",
       "                    background-color: var(--colab-primary-surface-color, white);\n",
       "                }\n",
       "\n",
       "                .geemap-colab .jupyter-button {\n",
       "                    --jp-layout-color3: var(--colab-primary-surface-color, white);\n",
       "                }\n",
       "            </style>\n",
       "            "
      ],
      "text/plain": [
       "<IPython.core.display.HTML object>"
      ]
     },
     "metadata": {},
     "output_type": "display_data"
    }
   ],
   "source": [
    "from io import StringIO\n",
    "import ee # this is the 'earthengine-api' package\n",
    "import matplotlib\n",
    "import matplotlib.pyplot as plt\n",
    "import numpy as np\n",
    "import osmnx as ox # OpenStreetMap API package\n",
    "import shapely # for geometry operations\n",
    "import geopandas as gpd\n",
    "import pandas as pd\n",
    "import geemap\n",
    "import requests\n",
    "import os\n",
    "import zipfile\n",
    "import xarray as xr\n",
    "import rasterio\n",
    "%matplotlib inline \n",
    "# or qt for interactive plots\n",
    "\n",
    "# for LaTeX-like fonts :)\n",
    "matplotlib.rcParams['mathtext.fontset'] = 'stix'\n",
    "matplotlib.rcParams['font.family'] = 'STIXGeneral'"
   ]
  },
  {
   "cell_type": "markdown",
   "id": "eb6b7364-dbbb-452d-be0c-b5bd00ff9147",
   "metadata": {},
   "source": [
    "## Define the area of interest\n",
    "* There are various methods to query OSM data for a specific location, such as using coordinates (longitude, latitude), a polygon, or a bounding box.\n",
    "* You can also input the name of a place, such as Pakistan!"
   ]
  },
  {
   "cell_type": "code",
   "execution_count": 24,
   "id": "0cf87e01-0981-426e-afc7-af42d9946f4e",
   "metadata": {},
   "outputs": [
    {
     "data": {
      "text/html": [
       "\n",
       "            <style>\n",
       "                .geemap-dark {\n",
       "                    --jp-widgets-color: white;\n",
       "                    --jp-widgets-label-color: white;\n",
       "                    --jp-ui-font-color1: white;\n",
       "                    --jp-layout-color2: #454545;\n",
       "                    background-color: #383838;\n",
       "                }\n",
       "\n",
       "                .geemap-dark .jupyter-button {\n",
       "                    --jp-layout-color3: #383838;\n",
       "                }\n",
       "\n",
       "                .geemap-colab {\n",
       "                    background-color: var(--colab-primary-surface-color, white);\n",
       "                }\n",
       "\n",
       "                .geemap-colab .jupyter-button {\n",
       "                    --jp-layout-color3: var(--colab-primary-surface-color, white);\n",
       "                }\n",
       "            </style>\n",
       "            "
      ],
      "text/plain": [
       "<IPython.core.display.HTML object>"
      ]
     },
     "metadata": {},
     "output_type": "display_data"
    }
   ],
   "source": [
    "# make sure to add as much information so that it queries the right location :)\n",
    "roi = 'Pakistan'\n",
    "# Extent of Pakistan\n",
    "gdf_Pakistan = ox.geocode_to_gdf(roi)"
   ]
  },
  {
   "cell_type": "markdown",
   "id": "12dcde98-aa49-40fa-9ece-8f94007ef30e",
   "metadata": {},
   "source": [
    "## Define Provinces"
   ]
  },
  {
   "cell_type": "code",
   "execution_count": 27,
   "id": "5eaf2ccd-d231-4dad-a31b-ede1fbaacee0",
   "metadata": {},
   "outputs": [
    {
     "data": {
      "text/html": [
       "\n",
       "            <style>\n",
       "                .geemap-dark {\n",
       "                    --jp-widgets-color: white;\n",
       "                    --jp-widgets-label-color: white;\n",
       "                    --jp-ui-font-color1: white;\n",
       "                    --jp-layout-color2: #454545;\n",
       "                    background-color: #383838;\n",
       "                }\n",
       "\n",
       "                .geemap-dark .jupyter-button {\n",
       "                    --jp-layout-color3: #383838;\n",
       "                }\n",
       "\n",
       "                .geemap-colab {\n",
       "                    background-color: var(--colab-primary-surface-color, white);\n",
       "                }\n",
       "\n",
       "                .geemap-colab .jupyter-button {\n",
       "                    --jp-layout-color3: var(--colab-primary-surface-color, white);\n",
       "                }\n",
       "            </style>\n",
       "            "
      ],
      "text/plain": [
       "<IPython.core.display.HTML object>"
      ]
     },
     "metadata": {},
     "output_type": "display_data"
    }
   ],
   "source": [
    "provinces = ['Khyber Pakhtunkhwa, Pakistan', 'Punjab, Pakistan', 'Sindh, Pakistan', 'Balochistan, Pakistan', 'Gilgit-Baltistan, Pakistan','Kaschmir, Pakistan']\n",
    "\n",
    "gdfs = []\n",
    "for province in provinces:\n",
    "    gdf = ox.geocode_to_gdf(province)\n",
    "    gdfs.append(gdf)\n",
    "\n",
    "gdf_Pakistan = gpd.GeoDataFrame(pd.concat(gdfs, ignore_index=True))"
   ]
  },
  {
   "cell_type": "markdown",
   "id": "347a7641-2f13-4294-841e-5998161f1d7a",
   "metadata": {},
   "source": [
    "## Enter Values for whatever variable you want to display\n",
    "- In the order of provinces"
   ]
  },
  {
   "cell_type": "code",
   "execution_count": 29,
   "id": "d7632609-55f1-4d3e-951e-7169f84ce628",
   "metadata": {},
   "outputs": [
    {
     "data": {
      "text/html": [
       "\n",
       "            <style>\n",
       "                .geemap-dark {\n",
       "                    --jp-widgets-color: white;\n",
       "                    --jp-widgets-label-color: white;\n",
       "                    --jp-ui-font-color1: white;\n",
       "                    --jp-layout-color2: #454545;\n",
       "                    background-color: #383838;\n",
       "                }\n",
       "\n",
       "                .geemap-dark .jupyter-button {\n",
       "                    --jp-layout-color3: #383838;\n",
       "                }\n",
       "\n",
       "                .geemap-colab {\n",
       "                    background-color: var(--colab-primary-surface-color, white);\n",
       "                }\n",
       "\n",
       "                .geemap-colab .jupyter-button {\n",
       "                    --jp-layout-color3: var(--colab-primary-surface-color, white);\n",
       "                }\n",
       "            </style>\n",
       "            "
      ],
      "text/plain": [
       "<IPython.core.display.HTML object>"
      ]
     },
     "metadata": {},
     "output_type": "display_data"
    }
   ],
   "source": [
    "participants = gpd.GeoDataFrame(np.array([0.431,0.432,0.0885,0.0411,0.000719,0.00511]))\n",
    "gdf_Pakistan['Participants'] = participants"
   ]
  },
  {
   "cell_type": "markdown",
   "id": "d7d842e5-afbd-4370-8234-7e18b0c7eb6a",
   "metadata": {},
   "source": [
    "## Plot"
   ]
  },
  {
   "cell_type": "code",
   "execution_count": 33,
   "id": "a20da2d7-4992-4e43-852d-9af157ccd616",
   "metadata": {},
   "outputs": [
    {
     "data": {
      "text/html": [
       "\n",
       "            <style>\n",
       "                .geemap-dark {\n",
       "                    --jp-widgets-color: white;\n",
       "                    --jp-widgets-label-color: white;\n",
       "                    --jp-ui-font-color1: white;\n",
       "                    --jp-layout-color2: #454545;\n",
       "                    background-color: #383838;\n",
       "                }\n",
       "\n",
       "                .geemap-dark .jupyter-button {\n",
       "                    --jp-layout-color3: #383838;\n",
       "                }\n",
       "\n",
       "                .geemap-colab {\n",
       "                    background-color: var(--colab-primary-surface-color, white);\n",
       "                }\n",
       "\n",
       "                .geemap-colab .jupyter-button {\n",
       "                    --jp-layout-color3: var(--colab-primary-surface-color, white);\n",
       "                }\n",
       "            </style>\n",
       "            "
      ],
      "text/plain": [
       "<IPython.core.display.HTML object>"
      ]
     },
     "metadata": {},
     "output_type": "display_data"
    },
    {
     "data": {
      "image/png": "[encoded data removed]",
      "text/plain": [
       "<Figure size 1500x1500 with 2 Axes>"
      ]
     },
     "metadata": {},
     "output_type": "display_data"
    }
   ],
   "source": [
    "fig, ax = plt.subplots(figsize=(15, 15))\n",
    "\n",
    "# plot the data\n",
    "gdf_Pakistan.plot(ax=ax, column='Participants', legend=True, cmap='Reds', legend_kwds={\n",
    "        'shrink': 0.4,         # Shrink the size of the colorbar\n",
    "        'aspect': 20,          # Adjust the aspect ratio\n",
    "        'orientation': 'vertical',  # Orientation of the colorbar\n",
    "    }\n",
    ")\n",
    "\n",
    "# Add title and province labels\n",
    "ax.set_title(\"Participants by provincial origin\", fontsize=16, fontweight='bold')\n",
    "\n",
    "# Aesthetics\n",
    "ax.axis('off')\n",
    "\n",
    "# Save the plot to a file\n",
    "output_path = \"participants_by_province.png\"  # Specify your desired file path and name\n",
    "plt.savefig(output_path, dpi=300, bbox_inches='tight')  # Adjust dpi for resolution and bbox for padding\n",
    "\n",
    "# Show the plot\n",
    "plt.show()"
   ]
  },
  {
   "cell_type": "code",
   "execution_count": null,
   "id": "f3571481-e8f6-4265-b604-c61b71ea4e8d",
   "metadata": {},
   "outputs": [],
   "source": []
  }
 ],
 "metadata": {
  "kernelspec": {
   "display_name": "Python 3 (ipykernel)",
   "language": "python",
   "name": "python3"
  },
  "language_info": {
   "codemirror_mode": {
    "name": "ipython",
    "version": 3
   },
   "file_extension": ".py",
   "mimetype": "text/x-python",
   "name": "python",
   "nbconvert_exporter": "python",
   "pygments_lexer": "ipython3",
   "version": "3.12.4"
  }
 },
 "nbformat": 4,
 "nbformat_minor": 5
}
